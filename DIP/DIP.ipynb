{
  "nbformat": 4,
  "nbformat_minor": 0,
  "metadata": {
    "colab": {
      "name": "DIP.ipynb",
      "provenance": [],
      "collapsed_sections": [
        "SBdjPxlbJiRC",
        "ymfkCc6E8P5x",
        "aF5y74uH05nf",
        "w_hKyGhv08Nx",
        "hl6B-ddV0-tl",
        "Wgs7WZX-nHD1",
        "SN1xQrIGI_B3",
        "CfUiXGQ8I0mD",
        "0DQItU7C1AjO",
        "vgKu2oi_2rlj",
        "Fnv-7maZSbX0",
        "gDMT8u5l35Kc",
        "e1SxNiQb38bh"
      ]
    },
    "kernelspec": {
      "display_name": "Python 3",
      "name": "python3"
    },
    "language_info": {
      "name": "python"
    }
  },
  "cells": [
    {
      "cell_type": "code",
      "metadata": {
        "id": "WS2sxZw5Eo2S"
      },
      "source": [
        "import cv2\n",
        "import pandas as pd\n",
        "import math\n",
        "import numpy as np\n",
        "import sympy as sp\n",
        "from google.colab.patches import cv2_imshow\n",
        "from tabulate import tabulate\n",
        "\n",
        "from IPython.display import display, Latex\n",
        "sp.init_printing()"
      ],
      "execution_count": 2,
      "outputs": []
    },
    {
      "cell_type": "markdown",
      "metadata": {
        "id": "SBdjPxlbJiRC"
      },
      "source": [
        "## Utility Functions"
      ]
    },
    {
      "cell_type": "code",
      "metadata": {
        "id": "MHjckjTlJhB_"
      },
      "source": [
        "def pprint_df(dframe):\n",
        "    print(tabulate(dframe, headers='keys', tablefmt='psql', showindex=True))\n",
        "\n",
        "def clamp(min_v, max_v, val):\n",
        "  return min(max(val, min_v), max_v)\n",
        "\n",
        "def r(x, i=2):\n",
        "    return str(round(x, i))\n",
        "\n",
        "def calc_intensity(red, green, blue):\n",
        "    return round((blue + green + red) / 3)\n",
        "\n",
        "def calc_saturation(red, green, blue):\n",
        "    minimum = min(red, green, blue)\n",
        "    return round((1 - (3 / (red + green + blue + 0.001) * minimum))*255)\n",
        "    \n",
        "def calc_hue(red, green, blue):\n",
        "    minv = min(red, green, blue)\n",
        "    maxv = max(red, green, blue)\n",
        "    if minv == maxv:\n",
        "        return 0\n",
        "    hue = 0\n",
        "    if maxv == red:\n",
        "        hue = (green - blue) / (maxv - minv)\n",
        "    elif maxv == green:\n",
        "        hue = 2 + (blue - red) / (maxv - minv)\n",
        "    else:\n",
        "        hue = 4 + (red - green) / (maxv - minv)\n",
        "    hue = hue * 60;\n",
        "    hue = hue + 360 if hue < 0 else hue;\n",
        "    return round(hue)\n",
        "\n",
        "def rgb_to_hsi(R, G, B):\n",
        "  H = list(map(lambda x: calc_hue(R[x], G[x], B[x]), range(len(R))))\n",
        "  S = list(map(lambda x: calc_saturation(R[x], G[x], B[x]), range(len(R))))\n",
        "  I = list(map(lambda x: calc_intensity(R[x], G[x], B[x]), range(len(R))))\n",
        "  return (H, S, I)\n",
        "\n",
        "def hsi_to_rgb(H, S, I):\n",
        "  def calc_rgb(hsi):\n",
        "    h, s, i = hsi\n",
        "    rad = math.pi / 180\n",
        "    s = s/255\n",
        "    i = i/255\n",
        "    r, g, b = 0, 0, 0\n",
        "    if h >= 0 and h < 120:\n",
        "      r = i * (1 + ((s * math.cos(h * rad)) / math.cos((60 - h) * rad)))\n",
        "      b = i * (1 - s)\n",
        "      g = i * 3 - (r + b)\n",
        "    elif h >= 120 and h < 240:\n",
        "      h = h - 120\n",
        "      g = i * (1 + ((s * math.cos(h * rad)) / math.cos((60 - h) * rad)))\n",
        "      r = i * (1 - s)\n",
        "      b = i * 3 - (r + g)\n",
        "    else:\n",
        "      h = h - 240\n",
        "      b = i * (1 + ((s * math.cos(h * rad)) / math.cos((60 - h) * rad)))\n",
        "      g = i * (1 - s)\n",
        "      r = i * 3 - (b + g)\n",
        "    return [round(clamp(0, 1, x) * 255) for x in (r, g, b)]\n",
        "\n",
        "  return list(map(calc_rgb, list(zip(H, S, I))))\n",
        "\n",
        "def calculate_hist(plane, L):\n",
        "  hist = np.bincount(plane)\n",
        "  pdf = hist / L\n",
        "  cdf = np.cumsum(pdf)\n",
        "  lookup = cdf * bit_rr\n",
        "\n",
        "  df = pd.DataFrame({\n",
        "      'count': hist.flatten(),\n",
        "      'pdf': pdf.flatten(),\n",
        "      'cdf': cdf.flatten(),\n",
        "      'lookup': [clamp(0, 255, x) for x in lookup.flatten()]\n",
        "      })\n",
        "  df = df[df['count'] != 0]\n",
        "  return df\n",
        "\n",
        "def rescale_range(range, s_min, s_max):\n",
        "  r_min = min(range)\n",
        "  r_max = max(range)\n",
        "  return list(map(lambda r:round(((((s_max - s_min)/(r_max - r_min)))*(r-r_min)+ s_min)), range))"
      ],
      "execution_count": 3,
      "outputs": []
    },
    {
      "cell_type": "markdown",
      "metadata": {
        "id": "ymfkCc6E8P5x"
      },
      "source": [
        "# Range Scaling"
      ]
    },
    {
      "cell_type": "code",
      "metadata": {
        "colab": {
          "base_uri": "https://localhost:8080/"
        },
        "id": "d1tll7kV5p5A",
        "outputId": "f4fcf5a3-d70c-44dc-cc7d-81d4d3729cc2"
      },
      "source": [
        "rescale_range([0, 10, 20, 30, 80, 100, 255], 175, 255)"
      ],
      "execution_count": null,
      "outputs": [
        {
          "output_type": "execute_result",
          "data": {
            "text/plain": [
              "[175, 178, 181, 184, 200, 206, 255]"
            ]
          },
          "metadata": {
            "tags": []
          },
          "execution_count": 16
        }
      ]
    },
    {
      "cell_type": "markdown",
      "metadata": {
        "id": "aF5y74uH05nf"
      },
      "source": [
        "# Dilation & Erosion"
      ]
    },
    {
      "cell_type": "code",
      "metadata": {
        "colab": {
          "base_uri": "https://localhost:8080/"
        },
        "id": "p8IkGg-TE53c",
        "outputId": "9a0f62c4-95ae-49b5-df32-f70c115c1812"
      },
      "source": [
        "img = np.array([\n",
        "    [0, 0, 0, 0, 0, 0, 0, 0, 0, 0, 0, 0, 0, 0],\n",
        "    [0, 1, 1, 0, 1, 1, 1, 1, 1, 0, 1, 1, 1, 0],\n",
        "    [0, 1, 1, 0, 1, 1, 1, 1, 1, 0, 1, 1, 1, 0],\n",
        "    [0, 1, 1, 1, 1, 1, 1, 1, 1, 1, 1, 1, 1, 0],\n",
        "    [0, 1, 1, 1, 1, 1, 0, 1, 1, 1, 1, 1, 1, 0],\n",
        "    [0, 1, 1, 1, 1, 1, 0, 1, 1, 1, 1, 1, 1, 0],\n",
        "    [0, 0, 0, 0, 0, 0, 0, 0, 0, 0, 0, 0, 0, 0],\n",
        "], np.uint8)\n",
        "\n",
        "kernel = np.array([\n",
        "      [1, 1, 1],\n",
        "      [1, 1, 1],\n",
        "      [1, 1, 1]\n",
        "], np.uint8)\n",
        "\n",
        "img_dilation = cv2.dilate(img, kernel, iterations=1)\n",
        "print('Dilated:')\n",
        "pprint_df(pd.DataFrame(img_dilation))\n",
        "\n",
        "img_erosion = cv2.erode(img, kernel, iterations=1)\n",
        "print('\\nEroded:')\n",
        "pprint_df(pd.DataFrame(img_erosion))"
      ],
      "execution_count": 4,
      "outputs": [
        {
          "output_type": "stream",
          "text": [
            "Dilated:\n",
            "+----+-----+-----+-----+-----+-----+-----+-----+-----+-----+-----+------+------+------+------+\n",
            "|    |   0 |   1 |   2 |   3 |   4 |   5 |   6 |   7 |   8 |   9 |   10 |   11 |   12 |   13 |\n",
            "|----+-----+-----+-----+-----+-----+-----+-----+-----+-----+-----+------+------+------+------|\n",
            "|  0 |   1 |   1 |   1 |   1 |   1 |   1 |   1 |   1 |   1 |   1 |    1 |    1 |    1 |    1 |\n",
            "|  1 |   1 |   1 |   1 |   1 |   1 |   1 |   1 |   1 |   1 |   1 |    1 |    1 |    1 |    1 |\n",
            "|  2 |   1 |   1 |   1 |   1 |   1 |   1 |   1 |   1 |   1 |   1 |    1 |    1 |    1 |    1 |\n",
            "|  3 |   1 |   1 |   1 |   1 |   1 |   1 |   1 |   1 |   1 |   1 |    1 |    1 |    1 |    1 |\n",
            "|  4 |   1 |   1 |   1 |   1 |   1 |   1 |   1 |   1 |   1 |   1 |    1 |    1 |    1 |    1 |\n",
            "|  5 |   1 |   1 |   1 |   1 |   1 |   1 |   1 |   1 |   1 |   1 |    1 |    1 |    1 |    1 |\n",
            "|  6 |   1 |   1 |   1 |   1 |   1 |   1 |   1 |   1 |   1 |   1 |    1 |    1 |    1 |    1 |\n",
            "+----+-----+-----+-----+-----+-----+-----+-----+-----+-----+-----+------+------+------+------+\n",
            "\n",
            "Eroded:\n",
            "+----+-----+-----+-----+-----+-----+-----+-----+-----+-----+-----+------+------+------+------+\n",
            "|    |   0 |   1 |   2 |   3 |   4 |   5 |   6 |   7 |   8 |   9 |   10 |   11 |   12 |   13 |\n",
            "|----+-----+-----+-----+-----+-----+-----+-----+-----+-----+-----+------+------+------+------|\n",
            "|  0 |   0 |   0 |   0 |   0 |   0 |   0 |   0 |   0 |   0 |   0 |    0 |    0 |    0 |    0 |\n",
            "|  1 |   0 |   0 |   0 |   0 |   0 |   0 |   0 |   0 |   0 |   0 |    0 |    0 |    0 |    0 |\n",
            "|  2 |   0 |   0 |   0 |   0 |   0 |   1 |   1 |   1 |   0 |   0 |    0 |    1 |    0 |    0 |\n",
            "|  3 |   0 |   0 |   0 |   0 |   0 |   0 |   0 |   0 |   0 |   0 |    0 |    1 |    0 |    0 |\n",
            "|  4 |   0 |   0 |   1 |   1 |   1 |   0 |   0 |   0 |   1 |   1 |    1 |    1 |    0 |    0 |\n",
            "|  5 |   0 |   0 |   0 |   0 |   0 |   0 |   0 |   0 |   0 |   0 |    0 |    0 |    0 |    0 |\n",
            "|  6 |   0 |   0 |   0 |   0 |   0 |   0 |   0 |   0 |   0 |   0 |    0 |    0 |    0 |    0 |\n",
            "+----+-----+-----+-----+-----+-----+-----+-----+-----+-----+-----+------+------+------+------+\n"
          ],
          "name": "stdout"
        }
      ]
    },
    {
      "cell_type": "markdown",
      "metadata": {
        "id": "w_hKyGhv08Nx"
      },
      "source": [
        "# Internal & External Boundaries"
      ]
    },
    {
      "cell_type": "code",
      "metadata": {
        "colab": {
          "base_uri": "https://localhost:8080/"
        },
        "id": "aqwW0UasOrSF",
        "outputId": "8530f409-8a62-4357-8d78-382a8311668d"
      },
      "source": [
        "img = np.array([\n",
        "    [0, 0, 0, 0, 0],\n",
        "    [0, 1, 1, 1, 0],\n",
        "    [0, 1, 1, 1, 0],\n",
        "    [0, 1, 1, 1, 0],\n",
        "    [0, 0, 0, 0, 0],\n",
        "], np.uint8)\n",
        "\n",
        "kernel = np.array([\n",
        "      [1, 1, 1],\n",
        "      [1, 1, 1],\n",
        "      [1, 1, 1]\n",
        "], np.uint8)\n",
        "\n",
        "img_external = (cv2.dilate(img, kernel, iterations=1) - img)\n",
        "print('External:')\n",
        "pprint_df(pd.DataFrame(img_external))\n",
        "\n",
        "img_internal = (img - cv2.erode(img, kernel, iterations=1))\n",
        "print('\\nInternal:')\n",
        "pprint_df(pd.DataFrame(img_internal))"
      ],
      "execution_count": null,
      "outputs": [
        {
          "output_type": "stream",
          "text": [
            "External:\n",
            "+----+-----+-----+-----+-----+-----+\n",
            "|    |   0 |   1 |   2 |   3 |   4 |\n",
            "|----+-----+-----+-----+-----+-----|\n",
            "|  0 |   1 |   1 |   1 |   1 |   1 |\n",
            "|  1 |   1 |   0 |   0 |   0 |   1 |\n",
            "|  2 |   1 |   0 |   0 |   0 |   1 |\n",
            "|  3 |   1 |   0 |   0 |   0 |   1 |\n",
            "|  4 |   1 |   1 |   1 |   1 |   1 |\n",
            "+----+-----+-----+-----+-----+-----+\n",
            "\n",
            "Internal:\n",
            "+----+-----+-----+-----+-----+-----+\n",
            "|    |   0 |   1 |   2 |   3 |   4 |\n",
            "|----+-----+-----+-----+-----+-----|\n",
            "|  0 |   0 |   0 |   0 |   0 |   0 |\n",
            "|  1 |   0 |   1 |   1 |   1 |   0 |\n",
            "|  2 |   0 |   1 |   0 |   1 |   0 |\n",
            "|  3 |   0 |   1 |   1 |   1 |   0 |\n",
            "|  4 |   0 |   0 |   0 |   0 |   0 |\n",
            "+----+-----+-----+-----+-----+-----+\n"
          ],
          "name": "stdout"
        }
      ]
    },
    {
      "cell_type": "markdown",
      "metadata": {
        "id": "hl6B-ddV0-tl"
      },
      "source": [
        "# Histogram Equalization "
      ]
    },
    {
      "cell_type": "code",
      "metadata": {
        "colab": {
          "base_uri": "https://localhost:8080/"
        },
        "id": "0CQY4FA4PXhv",
        "outputId": "c44b957b-f207-4956-d4e9-e82af6e1c191"
      },
      "source": [
        "img = np.array([\n",
        "    [8, 20, 64, 128],\n",
        "    [31, 64, 12, 58],\n",
        "    [200, 147, 20, 25],\n",
        "    [20, 128, 80, 100]\n",
        "], np.uint8)\n",
        "\n",
        "size = img.shape \n",
        "\n",
        "bit_rate = 8;\n",
        "bit_rr = 2**bit_rate\n",
        "print('Range 0 -', bit_rr)\n",
        "\n",
        "hist = cv2.calcHist([img], [0], None, [bit_rr], [0,bit_rr]) \n",
        "pdf = hist / (size[0] * size[1])\n",
        "cdf = np.cumsum(pdf)\n",
        "lookup = cdf * bit_rr\n",
        "\n",
        "df = pd.DataFrame({\n",
        "    'count': hist.flatten(),\n",
        "    'pdf': pdf.flatten(),\n",
        "    'cdf': cdf.flatten(),\n",
        "    'lookup': lookup.flatten()\n",
        "    })\n",
        "df = df[df['count'] != 0]\n",
        "pprint_df(df)\n",
        "\n",
        "newImg = np.zeros(size)\n",
        "for i in range(size[0]):\n",
        "  for j in range(size[1]):\n",
        "    newImg[i][j] = lookup[img[i][j]]\n",
        "\n",
        "print('\\nnew Image:');\n",
        "pprint_df(newImg)"
      ],
      "execution_count": 5,
      "outputs": [
        {
          "output_type": "stream",
          "text": [
            "Range 0 - 256\n",
            "+-----+---------+--------+--------+----------+\n",
            "|     |   count |    pdf |    cdf |   lookup |\n",
            "|-----+---------+--------+--------+----------|\n",
            "|   8 |       1 | 0.0625 | 0.0625 |       16 |\n",
            "|  12 |       1 | 0.0625 | 0.125  |       32 |\n",
            "|  20 |       3 | 0.1875 | 0.3125 |       80 |\n",
            "|  25 |       1 | 0.0625 | 0.375  |       96 |\n",
            "|  31 |       1 | 0.0625 | 0.4375 |      112 |\n",
            "|  58 |       1 | 0.0625 | 0.5    |      128 |\n",
            "|  64 |       2 | 0.125  | 0.625  |      160 |\n",
            "|  80 |       1 | 0.0625 | 0.6875 |      176 |\n",
            "| 100 |       1 | 0.0625 | 0.75   |      192 |\n",
            "| 128 |       2 | 0.125  | 0.875  |      224 |\n",
            "| 147 |       1 | 0.0625 | 0.9375 |      240 |\n",
            "| 200 |       1 | 0.0625 | 1      |      256 |\n",
            "+-----+---------+--------+--------+----------+\n",
            "\n",
            "new Image:\n",
            "+----+-----+-----+-----+-----+\n",
            "|    |   0 |   1 |   2 |   3 |\n",
            "|----+-----+-----+-----+-----|\n",
            "|  0 |  16 |  80 | 160 | 224 |\n",
            "|  1 | 112 | 160 |  32 | 128 |\n",
            "|  2 | 256 | 240 |  80 |  96 |\n",
            "|  3 |  80 | 224 | 176 | 192 |\n",
            "+----+-----+-----+-----+-----+\n"
          ],
          "name": "stdout"
        }
      ]
    },
    {
      "cell_type": "markdown",
      "metadata": {
        "id": "Wgs7WZX-nHD1"
      },
      "source": [
        "# Colored Image Histogram Equalization"
      ]
    },
    {
      "cell_type": "code",
      "metadata": {
        "id": "dEG4xz4A3M0R"
      },
      "source": [
        "# RGB Regions\n",
        "regions = np.array([\n",
        "    [250, 200, 150],\n",
        "    [120, 140, 250],\n",
        "    [20, 50, 20],\n",
        "    [100, 50, 200]\n",
        "])\n",
        "\n",
        "# per plane\n",
        "bit_rate = 8;\n",
        "bit_rr = 2**bit_rate\n",
        "\n",
        "R, G, B = list(zip(*regions))"
      ],
      "execution_count": null,
      "outputs": []
    },
    {
      "cell_type": "markdown",
      "metadata": {
        "id": "SN1xQrIGI_B3"
      },
      "source": [
        "## Equalization in RGB Space"
      ]
    },
    {
      "cell_type": "code",
      "metadata": {
        "colab": {
          "base_uri": "https://localhost:8080/"
        },
        "id": "l3ckjcoezNCv",
        "outputId": "efaa83d6-08b1-4b76-82ca-37667f9b851a"
      },
      "source": [
        "print('R Plane: ')\n",
        "r_df = calculate_hist(R, len(regions))\n",
        "pprint_df(r_df)\n",
        "\n",
        "print('\\nG Plane: ')\n",
        "g_df= calculate_hist(G, len(regions))\n",
        "pprint_df(g_df)\n",
        "\n",
        "print('\\nB Plane: ')\n",
        "b_df = calculate_hist(B, len(regions))\n",
        "pprint_df(b_df)\n",
        "\n",
        "newR = list(map(lambda x: r_df.loc[[x]]['lookup'].to_numpy()[0], R))\n",
        "newG = list(map(lambda x: g_df.loc[[x]]['lookup'].to_numpy()[0], G))\n",
        "newB = list(map(lambda x: b_df.loc[[x]]['lookup'].to_numpy()[0], B))\n",
        "print('\\nRGB Equalized Regions:')\n",
        "print(np.vstack(list(zip(newR, newG, newB))))"
      ],
      "execution_count": null,
      "outputs": [
        {
          "output_type": "stream",
          "text": [
            "R Plane: \n",
            "+-----+---------+-------+-------+----------+\n",
            "|     |   count |   pdf |   cdf |   lookup |\n",
            "|-----+---------+-------+-------+----------|\n",
            "|  20 |       1 |  0.25 |  0.25 |       64 |\n",
            "| 100 |       1 |  0.25 |  0.5  |      128 |\n",
            "| 120 |       1 |  0.25 |  0.75 |      192 |\n",
            "| 250 |       1 |  0.25 |  1    |      255 |\n",
            "+-----+---------+-------+-------+----------+\n",
            "\n",
            "G Plane: \n",
            "+-----+---------+-------+-------+----------+\n",
            "|     |   count |   pdf |   cdf |   lookup |\n",
            "|-----+---------+-------+-------+----------|\n",
            "|  50 |       2 |  0.5  |  0.5  |      128 |\n",
            "| 140 |       1 |  0.25 |  0.75 |      192 |\n",
            "| 200 |       1 |  0.25 |  1    |      255 |\n",
            "+-----+---------+-------+-------+----------+\n",
            "\n",
            "B Plane: \n",
            "+-----+---------+-------+-------+----------+\n",
            "|     |   count |   pdf |   cdf |   lookup |\n",
            "|-----+---------+-------+-------+----------|\n",
            "|  20 |       1 |  0.25 |  0.25 |       64 |\n",
            "| 150 |       1 |  0.25 |  0.5  |      128 |\n",
            "| 200 |       1 |  0.25 |  0.75 |      192 |\n",
            "| 250 |       1 |  0.25 |  1    |      255 |\n",
            "+-----+---------+-------+-------+----------+\n",
            "\n",
            "RGB Equalized Regions:\n",
            "[[255. 255. 128.]\n",
            " [192. 192. 255.]\n",
            " [ 64. 128.  64.]\n",
            " [128. 128. 192.]]\n"
          ],
          "name": "stdout"
        }
      ]
    },
    {
      "cell_type": "markdown",
      "metadata": {
        "id": "CfUiXGQ8I0mD"
      },
      "source": [
        "## Equalization in HSI"
      ]
    },
    {
      "cell_type": "code",
      "metadata": {
        "colab": {
          "base_uri": "https://localhost:8080/"
        },
        "id": "rgUzA03M1k25",
        "outputId": "fbeb4dd8-6111-46ce-e8c2-a40bab0e05df"
      },
      "source": [
        "print('RGB values:')\n",
        "print(np.vstack(regions))\n",
        "\n",
        "# HSI\n",
        "H, S, I = rgb_to_hsi(R, G, B)\n",
        "print('\\nRGB to HSI:')\n",
        "print(np.vstack(list(zip(H, S, I))))\n",
        "\n",
        "# equalize Intensity plane\n",
        "hist = calculate_hist(I, len(regions))\n",
        "print('\\nEqualize Intensity: ')\n",
        "pprint_df(hist)\n",
        "\n",
        "newI = list(map(lambda x: hist.loc[[x]]['lookup'].to_numpy()[0], I))\n",
        "print('\\nNew Regions in HSI:')\n",
        "print(np.vstack(list(zip(H, S, newI))))\n",
        "\n",
        "print('\\nNew Region in RGB:')\n",
        "print(np.vstack(hsi_to_rgb(H, S, newI)))"
      ],
      "execution_count": null,
      "outputs": [
        {
          "output_type": "stream",
          "text": [
            "RGB values:\n",
            "[[250 200 150]\n",
            " [120 140 250]\n",
            " [ 20  50  20]\n",
            " [100  50 200]]\n",
            "\n",
            "RGB to HSI:\n",
            "[[ 30  64 200]\n",
            " [231  75 170]\n",
            " [120  85  30]\n",
            " [260 146 117]]\n",
            "\n",
            "Equalize Intensity: \n",
            "+-----+---------+-------+-------+----------+\n",
            "|     |   count |   pdf |   cdf |   lookup |\n",
            "|-----+---------+-------+-------+----------|\n",
            "|  30 |       1 |  0.25 |  0.25 |       64 |\n",
            "| 117 |       1 |  0.25 |  0.5  |      128 |\n",
            "| 170 |       1 |  0.25 |  0.75 |      192 |\n",
            "| 200 |       1 |  0.25 |  1    |      255 |\n",
            "+-----+---------+-------+-------+----------+\n",
            "\n",
            "New Regions in HSI:\n",
            "[[ 30.  64. 255.]\n",
            " [231.  75. 192.]\n",
            " [120.  85.  64.]\n",
            " [260. 146. 128.]]\n",
            "\n",
            "New Region in RGB:\n",
            "[[255 255 191]\n",
            " [136 160 255]\n",
            " [ 43 107  43]\n",
            " [111  55 218]]\n"
          ],
          "name": "stdout"
        }
      ]
    },
    {
      "cell_type": "markdown",
      "metadata": {
        "id": "0DQItU7C1AjO"
      },
      "source": [
        "# Nearest Neighbour Interplotation"
      ]
    },
    {
      "cell_type": "code",
      "metadata": {
        "id": "_3bb8WG41r1P"
      },
      "source": [
        "def nni(image, point):\n",
        "  max_x = round(point[0])\n",
        "  max_y = round(point[1])\n",
        "\n",
        "  print(f\"x: {max_x}, y: {max_y}\")\n",
        "  return image[max_x, max_y]\n"
      ],
      "execution_count": null,
      "outputs": []
    },
    {
      "cell_type": "code",
      "metadata": {
        "colab": {
          "base_uri": "https://localhost:8080/"
        },
        "id": "kVwOA4T31FHL",
        "outputId": "9e12c10a-311e-4202-b5cd-87d4dab3a117"
      },
      "source": [
        "img = np.array([\n",
        "    [10, 2, 3],\n",
        "    [4, 7, 3],\n",
        "    [2, 2, 1],\n",
        "], np.uint8)\n",
        "\n",
        "# NOTE: convert matlab index to python index (ie python index starts from 0 inseat of 1)\n",
        "val = nni(img, (1.6, 1.7))\n",
        "print(f'val: {val}')"
      ],
      "execution_count": null,
      "outputs": [
        {
          "output_type": "stream",
          "text": [
            "x: 2, y: 2\n",
            "val: 1\n"
          ],
          "name": "stdout"
        }
      ]
    },
    {
      "cell_type": "markdown",
      "metadata": {
        "id": "vgKu2oi_2rlj"
      },
      "source": [
        "# Bilinear Interplotaion"
      ]
    },
    {
      "cell_type": "code",
      "metadata": {
        "id": "BONfZkcn1K6u"
      },
      "source": [
        "def bli(img, point):\n",
        "  point = point[1], point[0]\n",
        "  x = math.floor(point[0])\n",
        "  y = math.floor(point[1])\n",
        "\n",
        "  x_offset = point[0] - x\n",
        "  y_offset = point[1] - y\n",
        "\n",
        "  print(f'{img[x, y]}  {img[x, y+1]}')\n",
        "  print(f'{img[x+1, y]}  {img[x+1, y+1]}')\n",
        "\n",
        "  ix1 = (1-x_offset) * img[x, y] + (x_offset) * img[x, y+1]\n",
        "  ix2 = (1-x_offset) * img[x+1, y] + (x_offset) * img[x+1, y+1]\n",
        "  p = y_offset * ix2 + (1-y_offset) * ix1\n",
        "\n",
        "  print(\"\")\n",
        "  display(Latex(f'I_{{({x}, {point[1]})}} = \\\\frac{{{x+1} - {point[0]}}}{{{x+1} - {x}}} \\\\cdotp {img[x, y]} + \\\\frac{{{point[0]} - {x}}}{{{x+1} - {x}}} \\\\cdotp {img[x, y+1]} = {r(ix1)}'))\n",
        "  print(\"\")\n",
        "  display(Latex(f'I_{{({x+1}, {point[1]})}} = \\\\frac{{{x+1} - {point[0]}}}{{{x+1} - {x}}} \\\\cdotp {img[x+1, y]} + \\\\frac{{{point[0]} - {x}}}{{{x+1} - {x}}} \\\\cdotp {img[x+1, y+1]} = {r(ix2)}'))\n",
        "  print(\"\")\n",
        "  display(Latex(f'I_{{({point[0]}, {point[1]})}} = \\\\frac{{{y+1} - {point[1]}}}{{{y+1} - {y}}} \\\\cdotp {r(ix1)} + \\\\frac{{{point[1]} - {y}}}{{{y+1} - {y}}} \\\\cdotp {r(ix2)} = {r(p)}'))"
      ],
      "execution_count": null,
      "outputs": []
    },
    {
      "cell_type": "code",
      "metadata": {
        "id": "KKKNkgdfdaPU"
      },
      "source": [
        "def bli2(img, point):\n",
        "  x = math.floor(point[0])\n",
        "  y = math.floor(point[1])\n",
        "\n",
        "  x_offset = point[0] - x\n",
        "  y_offset = point[1] - y\n",
        "\n",
        "  print(f'{img[x, y]}  {img[x, y+1]}')\n",
        "  print(f'{img[x+1, y]}  {img[x+1, y+1]}')\n",
        "\n",
        "  print(f'= [({r(1-x_offset)} * {img[x, y]}) + ({r(x_offset)} * {img[x+1, y]})] * {r(1-y_offset)} + [({r(1-x_offset)} * {img[x, y+1]}) + ({r(x_offset)} * {img[x+1, y+1]})] * {r(y_offset)}')\n",
        "  print(f'= [{r((1-x_offset) * img[x, y])} + {r((x_offset) * img[x+1, y])}] * {r(1-y_offset)} + [{r((1-x_offset) * img[x, y+1])} + {r((x_offset) * img[x+1, y+1])}] * {r(y_offset)}')\n",
        "  print(f'= {r((1-x_offset) * img[x, y] + (x_offset) * img[x+1, y])} * {r(1-y_offset)} + {r((1-x_offset) * img[x, y+1] + (x_offset) * img[x+1, y+1])} * {r(y_offset)}')\n",
        "\n",
        "  print(f'= {r((((1-x_offset) * img[x, y] + (x_offset) * img[x+1, y]) * (1-y_offset)) + (((1-x_offset) * img[x, y+1] + (x_offset) * img[x+1, y+1]) * (y_offset)))}')"
      ],
      "execution_count": null,
      "outputs": []
    },
    {
      "cell_type": "code",
      "metadata": {
        "colab": {
          "base_uri": "https://localhost:8080/",
          "height": 274
        },
        "id": "F8n5nNEg37YQ",
        "outputId": "4e706e9a-2b74-49e9-cfeb-77e71e86d27f"
      },
      "source": [
        "img = np.array([\n",
        "    [91, 210, 3],\n",
        "    [162, 7, 3],\n",
        "    [2, 2, 1],\n",
        "], np.uint8)\n",
        "\n",
        "# NOTE: convert matlab index to python index (ie python index starts from 0 inseat of 1)\n",
        "bli(img, (1.6, 1.7))\n",
        "# bli(img, (0.2, 0.5))\n",
        "# bli(img, (0.5, 0.2))\n",
        "\n",
        "# bli2(img, (0.2, 0.5))\n",
        "bli2(img, (1.6, 1.7))"
      ],
      "execution_count": null,
      "outputs": [
        {
          "output_type": "stream",
          "text": [
            "7  3\n",
            "2  1\n",
            "\n"
          ],
          "name": "stdout"
        },
        {
          "output_type": "display_data",
          "data": {
            "text/latex": "I_{(1, 1.6)} = \\frac{2 - 1.7}{2 - 1} \\cdotp 7 + \\frac{1.7 - 1}{2 - 1} \\cdotp 3 = 4.2",
            "text/plain": [
              "<IPython.core.display.Latex object>"
            ]
          },
          "metadata": {
            "tags": []
          }
        },
        {
          "output_type": "stream",
          "text": [
            "\n"
          ],
          "name": "stdout"
        },
        {
          "output_type": "display_data",
          "data": {
            "text/latex": "I_{(2, 1.6)} = \\frac{2 - 1.7}{2 - 1} \\cdotp 2 + \\frac{1.7 - 1}{2 - 1} \\cdotp 1 = 1.3",
            "text/plain": [
              "<IPython.core.display.Latex object>"
            ]
          },
          "metadata": {
            "tags": []
          }
        },
        {
          "output_type": "stream",
          "text": [
            "\n"
          ],
          "name": "stdout"
        },
        {
          "output_type": "display_data",
          "data": {
            "text/latex": "I_{(1.7, 1.6)} = \\frac{2 - 1.6}{2 - 1} \\cdotp 4.2 + \\frac{1.6 - 1}{2 - 1} \\cdotp 1.3 = 2.46",
            "text/plain": [
              "<IPython.core.display.Latex object>"
            ]
          },
          "metadata": {
            "tags": []
          }
        },
        {
          "output_type": "stream",
          "text": [
            "7  3\n",
            "2  1\n",
            "= [(0.4 * 7) + (0.6 * 2)] * 0.3 + [(0.4 * 3) + (0.6 * 1)] * 0.7\n",
            "= [2.8 + 1.2] * 0.3 + [1.2 + 0.6] * 0.7\n",
            "= 4.0 * 0.3 + 1.8 * 0.7\n",
            "= 2.46\n"
          ],
          "name": "stdout"
        }
      ]
    },
    {
      "cell_type": "markdown",
      "metadata": {
        "id": "Fnv-7maZSbX0"
      },
      "source": [
        "# Color Models"
      ]
    },
    {
      "cell_type": "markdown",
      "metadata": {
        "id": "gDMT8u5l35Kc"
      },
      "source": [
        "## RGB to HSI"
      ]
    },
    {
      "cell_type": "code",
      "metadata": {
        "id": "UMCYp-xs38ez"
      },
      "source": [
        "def rgb2hsi(r, g, b):\n",
        "  re, ge, be = sp.symbols('r g b')\n",
        "\n",
        "  ie = sp.simplify(\"1/3\") * (re + ge + be)\n",
        "  se = sp.simplify(\"1\") - 1/ie * min(r, g, b)\n",
        "  te = sp.acos((1/2*((re-ge) + (re-be))) / sp.sqrt((re- ge)**2 + (re-be) * (ge-be)))\n",
        "\n",
        "  display(sp.Eq(sp.symbols('I'), ie))\n",
        "  print(\"\")\n",
        "  display(sp.Eq(sp.symbols('S'), se))\n",
        "  print(\"\")\n",
        "  display(sp.Eq(sp.symbols('theta'), te))\n",
        "\n",
        "  i = sp.lambdify((re, ge, be), ie)(r, g, b)\n",
        "  s = sp.lambdify((re, ge, be), se)(r, g, b)\n",
        "  t = sp.lambdify((re, ge, be), te)(r, g, b)\n",
        "  t = 0 if np.isnan(t) else t\n",
        "  h = t if b <= g else 2*math.pi - t\n",
        "\n",
        "  display(sp.Eq(sp.symbols('theta'), t))\n",
        "  display(sp.Eq(sp.symbols('H'), h))\n",
        "  display(sp.Eq(sp.symbols('S'), s))\n",
        "  display(sp.Eq(sp.symbols('I'), i))\n",
        "\n",
        "  return h * 180 / math.pi, s*255, i"
      ],
      "execution_count": null,
      "outputs": []
    },
    {
      "cell_type": "code",
      "metadata": {
        "colab": {
          "base_uri": "https://localhost:8080/"
        },
        "id": "v9KH35oRWO3D",
        "outputId": "067eeb6a-f6c4-4a8f-f5f2-e27ee7962901"
      },
      "source": [
        "h, s, i = rgb2hsi(100, 50, 200)\n",
        "print(\"\")\n",
        "print(r(h, 0), r(s, 0), r(i, 0))"
      ],
      "execution_count": null,
      "outputs": [
        {
          "output_type": "display_data",
          "data": {
            "image/png": "[encoded data removed]",
            "text/latex": "$\\displaystyle I = \\frac{b}{3} + \\frac{g}{3} + \\frac{r}{3}$",
            "text/plain": [
              "    b   g   r\n",
              "I = ─ + ─ + ─\n",
              "    3   3   3"
            ]
          },
          "metadata": {
            "tags": []
          }
        },
        {
          "output_type": "stream",
          "text": [
            "\n"
          ],
          "name": "stdout"
        },
        {
          "output_type": "display_data",
          "data": {
            "image/png": "[encoded data removed]",
            "text/latex": "$\\displaystyle S = 1 - \\frac{50}{\\frac{b}{3} + \\frac{g}{3} + \\frac{r}{3}}$",
            "text/plain": [
              "            50   \n",
              "S = 1 - ─────────\n",
              "        b   g   r\n",
              "        ─ + ─ + ─\n",
              "        3   3   3"
            ]
          },
          "metadata": {
            "tags": []
          }
        },
        {
          "output_type": "stream",
          "text": [
            "\n"
          ],
          "name": "stdout"
        },
        {
          "output_type": "display_data",
          "data": {
            "image/png": "[encoded data removed]",
            "text/latex": "$\\displaystyle \\theta = \\operatorname{acos}{\\left(\\frac{- 0.5 b - 0.5 g + 1.0 r}{\\sqrt{\\left(- b + g\\right) \\left(- b + r\\right) + \\left(- g + r\\right)^{2}}} \\right)}$",
            "text/plain": [
              "        ⎛      -0.5⋅b - 0.5⋅g + 1.0⋅r      ⎞\n",
              "θ = acos⎜──────────────────────────────────⎟\n",
              "        ⎜   _______________________________⎟\n",
              "        ⎜  ╱                             2 ⎟\n",
              "        ⎝╲╱  (-b + g)⋅(-b + r) + (-g + r)  ⎠"
            ]
          },
          "metadata": {
            "tags": []
          }
        },
        {
          "output_type": "display_data",
          "data": {
            "image/png": "[encoded data removed]",
            "text/latex": "$\\displaystyle \\theta = 1.76092193014136$",
            "text/plain": [
              "θ = 1.76092193014136"
            ]
          },
          "metadata": {
            "tags": []
          }
        },
        {
          "output_type": "display_data",
          "data": {
            "image/png": "[encoded data removed]",
            "text/latex": "$\\displaystyle H = 4.52226337703822$",
            "text/plain": [
              "H = 4.52226337703822"
            ]
          },
          "metadata": {
            "tags": []
          }
        },
        {
          "output_type": "display_data",
          "data": {
            "image/png": "[encoded data removed]",
            "text/latex": "$\\displaystyle S = 0.571428571428571$",
            "text/plain": [
              "S = 0.571428571428571"
            ]
          },
          "metadata": {
            "tags": []
          }
        },
        {
          "output_type": "display_data",
          "data": {
            "image/png": "[encoded data removed]",
            "text/latex": "$\\displaystyle I = 116.666666666667$",
            "text/plain": [
              "I = 116.666666666667"
            ]
          },
          "metadata": {
            "tags": []
          }
        },
        {
          "output_type": "stream",
          "text": [
            "\n",
            "259.0 146.0 117.0\n"
          ],
          "name": "stdout"
        }
      ]
    },
    {
      "cell_type": "markdown",
      "metadata": {
        "id": "e1SxNiQb38bh"
      },
      "source": [
        "## HSI to RGB"
      ]
    },
    {
      "cell_type": "code",
      "metadata": {
        "id": "DMQSkevCi8Hp"
      },
      "source": [
        "def hsi2rgb(h, s, i):\n",
        "  he, se, ie = sp.symbols('H S I')\n",
        "  rs, gs, bs = sp.symbols('R G B')\n",
        "\n",
        "  h = h * math.pi / 180\n",
        "  print(h, s, i)\n",
        "\n",
        "  if h >= 0 and h < 2 * math.pi / 3:\n",
        "    display(\"h >= 0 and h < 120\")\n",
        "\n",
        "    re = ie * (1 + ((se * sp.cos(he)) / sp.cos(sp.pi/3 - he)))\n",
        "    be = ie * (1 - se)\n",
        "    ge = 3 * ie - (rs + bs)\n",
        "\n",
        "    r = sp.lambdify((he, se, ie), re)(h, s, i)\n",
        "    b = sp.lambdify((he, se, ie), be)(h, s, i)\n",
        "    g = sp.lambdify((rs, bs, ie), ge)(r, b, i)\n",
        "\n",
        "  elif h >= 2 * math.pi / 3 and h < 4 * math.pi / 3:\n",
        "    display(\"h >= 120 and h < 240\")\n",
        "    h = h - 2 * math.pi / 3\n",
        "\n",
        "    re = ie * (1 - se)\n",
        "    ge = ie * (1 + ((se * sp.cos(he)) / sp.cos(sp.pi/3 - he)))\n",
        "    be = 3 * ie - (rs + gs)\n",
        "\n",
        "    r = sp.lambdify((he, se, ie), re)(h, s, i)\n",
        "    g = sp.lambdify((he, se, ie), ge)(h, s, i)\n",
        "    b = sp.lambdify((rs, gs, ie), be)(r, g, i)\n",
        "  else:\n",
        "    display(\"h >= 240 and h < 360\")\n",
        "    h = h - 4 * math.pi / 3\n",
        "\n",
        "    be = ie * (1 + ((se * sp.cos(he)) / sp.cos(sp.pi/3 - he)))\n",
        "    ge = ie * (1 - se)\n",
        "    re = 3 * ie - (gs + bs)\n",
        "\n",
        "    b = sp.lambdify((he, se, ie), be)(h, s, i)\n",
        "    g = sp.lambdify((he, se, ie), ge)(h, s, i)\n",
        "    r = sp.lambdify((gs, bs, ie), re)(g, b, i)\n",
        "\n",
        "  display(sp.Eq(rs, re))\n",
        "  print(\"\")\n",
        "  display(sp.Eq(gs, ge))\n",
        "  print(\"\")\n",
        "  display(sp.Eq(bs, be))\n",
        "  print(\"\")\n",
        "\n",
        "  display(sp.Eq(rs, r ))\n",
        "  print(\"\")\n",
        "  display(sp.Eq(gs, g ))\n",
        "  print(\"\")\n",
        "  display(sp.Eq(bs, b))\n",
        "  print(\"\")\n",
        "  \n",
        "  return [round(clamp(0, 1, x) * 255) for x in (r, g, b)]"
      ],
      "execution_count": null,
      "outputs": []
    },
    {
      "cell_type": "code",
      "metadata": {
        "colab": {
          "base_uri": "https://localhost:8080/"
        },
        "id": "43aGnqdxlZ_z",
        "outputId": "4e1bf0e1-f61b-48f7-f5fa-ea75e57a6b54"
      },
      "source": [
        "hsi2rgb(260, 146/255, 117/255)"
      ],
      "execution_count": null,
      "outputs": [
        {
          "output_type": "stream",
          "text": [
            "4.537856055185257 0.5725490196078431 0.4588235294117647\n"
          ],
          "name": "stdout"
        },
        {
          "output_type": "display_data",
          "data": {
            "application/vnd.google.colaboratory.intrinsic+json": {
              "type": "string"
            },
            "text/plain": [
              "'h >= 240 and h < 360'"
            ]
          },
          "metadata": {
            "tags": []
          }
        },
        {
          "output_type": "display_data",
          "data": {
            "image/png": "[encoded data removed]",
            "text/latex": "$\\displaystyle R = - B - G + 3 I$",
            "text/plain": [
              "R = -B - G + 3⋅I"
            ]
          },
          "metadata": {
            "tags": []
          }
        },
        {
          "output_type": "stream",
          "text": [
            "\n"
          ],
          "name": "stdout"
        },
        {
          "output_type": "display_data",
          "data": {
            "image/png": "[encoded data removed]",
            "text/latex": "$\\displaystyle G = I \\left(1 - S\\right)$",
            "text/plain": [
              "G = I⋅(1 - S)"
            ]
          },
          "metadata": {
            "tags": []
          }
        },
        {
          "output_type": "stream",
          "text": [
            "\n"
          ],
          "name": "stdout"
        },
        {
          "output_type": "display_data",
          "data": {
            "image/png": "[encoded data removed]",
            "text/latex": "$\\displaystyle B = I \\left(\\frac{S \\cos{\\left(H \\right)}}{\\sin{\\left(H + \\frac{\\pi}{6} \\right)}} + 1\\right)$",
            "text/plain": [
              "      ⎛ S⋅cos(H)     ⎞\n",
              "B = I⋅⎜────────── + 1⎟\n",
              "      ⎜   ⎛    π⎞    ⎟\n",
              "      ⎜sin⎜H + ─⎟    ⎟\n",
              "      ⎝   ⎝    6⎠    ⎠"
            ]
          },
          "metadata": {
            "tags": []
          }
        },
        {
          "output_type": "stream",
          "text": [
            "\n"
          ],
          "name": "stdout"
        },
        {
          "output_type": "display_data",
          "data": {
            "image/png": "[encoded data removed]",
            "text/latex": "$\\displaystyle R = 0.39927450921426$",
            "text/plain": [
              "R = 0.39927450921426"
            ]
          },
          "metadata": {
            "tags": []
          }
        },
        {
          "output_type": "stream",
          "text": [
            "\n"
          ],
          "name": "stdout"
        },
        {
          "output_type": "display_data",
          "data": {
            "image/png": "[encoded data removed]",
            "text/latex": "$\\displaystyle G = 0.196124567474048$",
            "text/plain": [
              "G = 0.196124567474048"
            ]
          },
          "metadata": {
            "tags": []
          }
        },
        {
          "output_type": "stream",
          "text": [
            "\n"
          ],
          "name": "stdout"
        },
        {
          "output_type": "display_data",
          "data": {
            "image/png": "[encoded data removed]",
            "text/latex": "$\\displaystyle B = 0.781071511546986$",
            "text/plain": [
              "B = 0.781071511546986"
            ]
          },
          "metadata": {
            "tags": []
          }
        },
        {
          "output_type": "stream",
          "text": [
            "\n"
          ],
          "name": "stdout"
        },
        {
          "output_type": "execute_result",
          "data": {
            "image/png": "[encoded data removed]",
            "text/latex": "$\\displaystyle \\left[ 102, \\  50, \\  199\\right]$",
            "text/plain": [
              "[102, 50, 199]"
            ]
          },
          "metadata": {
            "tags": []
          },
          "execution_count": 59
        }
      ]
    }
  ]
}